{
  "nbformat": 4,
  "nbformat_minor": 0,
  "metadata": {
    "colab": {
      "provenance": []
    },
    "kernelspec": {
      "name": "python3",
      "display_name": "Python 3"
    },
    "language_info": {
      "name": "python"
    }
  },
  "cells": [
    {
      "cell_type": "code",
      "execution_count": null,
      "metadata": {
        "colab": {
          "base_uri": "https://localhost:8080/"
        },
        "id": "EZO-Eaq0c5CK",
        "outputId": "22172dd1-b794-4c5c-e0ae-0f7f6bd77df0"
      },
      "outputs": [
        {
          "output_type": "stream",
          "name": "stdout",
          "text": [
            "my favorite color is blue\n"
          ]
        }
      ],
      "source": [
        "favorite_color=\"blue\"\n",
        "print(\"my favorite color is\" ,favorite_color)"
      ]
    },
    {
      "cell_type": "code",
      "source": [
        "birth_year=2005\n",
        "print(\"my birth year is\",birth_year)"
      ],
      "metadata": {
        "colab": {
          "base_uri": "https://localhost:8080/"
        },
        "id": "_ftKLLP4dZe2",
        "outputId": "2f84b44b-6ed0-41a4-d847-94b25646e5cb"
      },
      "execution_count": null,
      "outputs": [
        {
          "output_type": "stream",
          "name": "stdout",
          "text": [
            "my birth year is 2005\n"
          ]
        }
      ]
    },
    {
      "cell_type": "code",
      "source": [
        "favorite_food=\"biryani\"\n",
        "print(\"my favorite food is \", favorite_food)"
      ],
      "metadata": {
        "colab": {
          "base_uri": "https://localhost:8080/"
        },
        "id": "uBWM45tldLSx",
        "outputId": "4dd05b1f-6796-4541-d357-3c7bf4834a3a"
      },
      "execution_count": null,
      "outputs": [
        {
          "output_type": "stream",
          "name": "stdout",
          "text": [
            "my favorite food is  biryani\n"
          ]
        }
      ]
    },
    {
      "cell_type": "code",
      "source": [
        "a=7\n",
        "b=9\n",
        "print(a,b)"
      ],
      "metadata": {
        "colab": {
          "base_uri": "https://localhost:8080/"
        },
        "id": "DRovrX0Dd79d",
        "outputId": "650f5280-8bd3-462e-bb3b-61d6acba68d4"
      },
      "execution_count": null,
      "outputs": [
        {
          "output_type": "stream",
          "name": "stdout",
          "text": [
            "7 9\n"
          ]
        }
      ]
    },
    {
      "cell_type": "code",
      "source": [
        "hobby=\"cooking\"\n",
        "print(\"my hobby is \", hobby)"
      ],
      "metadata": {
        "colab": {
          "base_uri": "https://localhost:8080/"
        },
        "id": "RxnLiUo8enMk",
        "outputId": "775e9975-1661-40b2-887d-1b1ac10cfb57"
      },
      "execution_count": null,
      "outputs": [
        {
          "output_type": "stream",
          "name": "stdout",
          "text": [
            "my hobby is  cooking\n"
          ]
        }
      ]
    },
    {
      "cell_type": "code",
      "source": [
        "country=\"pakistan\"\n",
        "print(\"i love my country\", country)"
      ],
      "metadata": {
        "colab": {
          "base_uri": "https://localhost:8080/"
        },
        "id": "eDM4gVT4e-uq",
        "outputId": "ed0b6aa2-d6fd-4d57-96be-f69a368bdc88"
      },
      "execution_count": null,
      "outputs": [
        {
          "output_type": "stream",
          "name": "stdout",
          "text": [
            "i love my country pakistan\n"
          ]
        }
      ]
    },
    {
      "cell_type": "code",
      "source": [
        "name=\"tehreem\"\n",
        "hobby=\"cooking\"\n",
        "favorite_color=\"blue\"\n",
        "print(name, hobby , favorite_color)"
      ],
      "metadata": {
        "colab": {
          "base_uri": "https://localhost:8080/"
        },
        "id": "norl8xzwfY8V",
        "outputId": "fa4d9c50-3d06-4216-e5bd-2429dd082a7f"
      },
      "execution_count": null,
      "outputs": [
        {
          "output_type": "stream",
          "name": "stdout",
          "text": [
            "tehreem cooking blue\n"
          ]
        }
      ]
    },
    {
      "cell_type": "code",
      "source": [
        "a=77\n",
        "b=89\n",
        "sub_result=a-b\n",
        "print(sub_result)"
      ],
      "metadata": {
        "colab": {
          "base_uri": "https://localhost:8080/"
        },
        "id": "wAFsqO8BfPn9",
        "outputId": "435da0d3-15a0-4220-f6c0-60d0191415ce"
      },
      "execution_count": null,
      "outputs": [
        {
          "output_type": "stream",
          "name": "stdout",
          "text": [
            "-12\n"
          ]
        }
      ]
    },
    {
      "cell_type": "code",
      "source": [
        "book_title=\"Quran pak\"\n",
        "print(\"The inspiration book is \", book_title)"
      ],
      "metadata": {
        "colab": {
          "base_uri": "https://localhost:8080/"
        },
        "id": "MKiRGmjCg3Wv",
        "outputId": "abc6e39c-bdba-4696-cfd2-a9117fd4a27b"
      },
      "execution_count": null,
      "outputs": [
        {
          "output_type": "stream",
          "name": "stdout",
          "text": [
            "The inspiration book is  Quran pak\n"
          ]
        }
      ]
    },
    {
      "cell_type": "code",
      "source": [
        "movie=\"incepation\"\n",
        "print(\"My favorite movie is\", movie)"
      ],
      "metadata": {
        "colab": {
          "base_uri": "https://localhost:8080/"
        },
        "id": "vaGbZmgdhKYD",
        "outputId": "1bd52c65-0c2b-4d62-82a6-58433df122a5"
      },
      "execution_count": null,
      "outputs": [
        {
          "output_type": "stream",
          "name": "stdout",
          "text": [
            "My favorite movie is incepation\n"
          ]
        }
      ]
    }
  ]
}